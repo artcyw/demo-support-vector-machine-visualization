{
 "cells": [
  {
   "cell_type": "markdown",
   "metadata": {},
   "source": [
    "# Support Vector Machine - Visualization (Linear Kernel)"
   ]
  },
  {
   "cell_type": "markdown",
   "metadata": {},
   "source": [
    "## Step 1 - Import Libraries"
   ]
  },
  {
   "cell_type": "code",
   "execution_count": 29,
   "metadata": {},
   "outputs": [],
   "source": [
    "# Import numpy, pandas, matplotlib, seaborn, SVC, and confusion_matrix\n",
    "import numpy as np\n",
    "import pandas as pd\n",
    "import matplotlib.pyplot as plt\n",
    "import seaborn as sns\n",
    "from sklearn.svm import SVC\n",
    "from sklearn.metrics import confusion_matrix"
   ]
  },
  {
   "cell_type": "markdown",
   "metadata": {},
   "source": [
    "## Step 2 - EDA"
   ]
  },
  {
   "cell_type": "markdown",
   "metadata": {},
   "source": [
    "### 2.1 - Import data"
   ]
  },
  {
   "cell_type": "code",
   "execution_count": 30,
   "metadata": {},
   "outputs": [],
   "source": [
    "# read csv\n",
    "df = pd.read_csv('./data/data.csv')"
   ]
  },
  {
   "cell_type": "code",
   "execution_count": 31,
   "metadata": {},
   "outputs": [],
   "source": [
    "# review data"
   ]
  },
  {
   "cell_type": "markdown",
   "metadata": {},
   "source": [
    "### 2.2 - Data Visualization"
   ]
  },
  {
   "cell_type": "code",
   "execution_count": 32,
   "metadata": {},
   "outputs": [
    {
     "data": {
      "image/png": "[encoded data removed]",
      "text/plain": [
       "<Figure size 432x288 with 1 Axes>"
      ]
     },
     "metadata": {
      "needs_background": "light"
     },
     "output_type": "display_data"
    }
   ],
   "source": [
    "# plot data\n",
    "sns.scatterplot(data=df, x='x1',y='x2', hue='class');"
   ]
  },
  {
   "cell_type": "markdown",
   "metadata": {},
   "source": [
    "## Step 3 - Model & Model Evaluation"
   ]
  },
  {
   "cell_type": "markdown",
   "metadata": {},
   "source": [
    "### 3.1 - Fit, Run, Predit & Evaluation"
   ]
  },
  {
   "cell_type": "code",
   "execution_count": 33,
   "metadata": {},
   "outputs": [],
   "source": [
    "# X & y\n",
    "X = df[['x1', 'x2']]\n",
    "y = df['class']"
   ]
  },
  {
   "cell_type": "code",
   "execution_count": 34,
   "metadata": {},
   "outputs": [
    {
     "data": {
      "text/plain": [
       "SVC(C=1.0, cache_size=200, class_weight=None, coef0=0.0,\n",
       "  decision_function_shape='ovr', degree=3, gamma='auto_deprecated',\n",
       "  kernel='linear', max_iter=-1, probability=False, random_state=None,\n",
       "  shrinking=True, tol=0.001, verbose=False)"
      ]
     },
     "execution_count": 34,
     "metadata": {},
     "output_type": "execute_result"
    }
   ],
   "source": [
    "# instantiate & fit svc model\n",
    "# using kernel = 'linear'\n",
    "# C = 1.0 (the default)\n",
    "svc = SVC(kernel='linear', C=1.0)\n",
    "svc.fit(X, y)"
   ]
  },
  {
   "cell_type": "code",
   "execution_count": 35,
   "metadata": {},
   "outputs": [],
   "source": [
    "# model y_pred using X\n",
    "y_pred = svc.predict(X)"
   ]
  },
  {
   "cell_type": "code",
   "execution_count": 36,
   "metadata": {},
   "outputs": [
    {
     "data": {
      "text/plain": [
       "array([[20,  0],\n",
       "       [ 1, 20]])"
      ]
     },
     "execution_count": 36,
     "metadata": {},
     "output_type": "execute_result"
    }
   ],
   "source": [
    "# evaluate the model using confusion matrix\n",
    "confusion_matrix(y, y_pred)"
   ]
  },
  {
   "cell_type": "markdown",
   "metadata": {},
   "source": [
    "### 3.2 Plot the Decision Boundary"
   ]
  },
  {
   "cell_type": "code",
   "execution_count": 37,
   "metadata": {},
   "outputs": [
    {
     "data": {
      "text/plain": [
       "array([[0.94195034, 0.19433212]])"
      ]
     },
     "execution_count": 37,
     "metadata": {},
     "output_type": "execute_result"
    }
   ],
   "source": [
    "# Check the coefficient of the features\n",
    "svc.coef_"
   ]
  },
  {
   "cell_type": "code",
   "execution_count": 38,
   "metadata": {},
   "outputs": [
    {
     "data": {
      "text/plain": [
       "array([-4.29601899])"
      ]
     },
     "execution_count": 38,
     "metadata": {},
     "output_type": "execute_result"
    }
   ],
   "source": [
    "# Check the interception of the features\n",
    "svc.intercept_"
   ]
  },
  {
   "cell_type": "code",
   "execution_count": 39,
   "metadata": {},
   "outputs": [
    {
     "name": "stdout",
     "output_type": "stream",
     "text": [
      "0.941950343460682 0.19433212016938572 -4.296018990142406\n"
     ]
    }
   ],
   "source": [
    "# extract values for beta_1, beta_2, and the intercept\n",
    "beta_1 = svc.coef_[0][0]\n",
    "beta_2 = svc.coef_[0][1]\n",
    "intercept = svc.intercept_[0]\n",
    "\n",
    "# check by printing out the values\n",
    "print(beta_1, beta_2, intercept)"
   ]
  },
  {
   "cell_type": "code",
   "execution_count": 40,
   "metadata": {},
   "outputs": [],
   "source": [
    "# Write out the equation of decision boundary\n"
   ]
  },
  {
   "cell_type": "code",
   "execution_count": 41,
   "metadata": {},
   "outputs": [
    {
     "data": {
      "image/png": "[encoded data removed]",
      "text/plain": [
       "<Figure size 432x288 with 1 Axes>"
      ]
     },
     "metadata": {
      "needs_background": "light"
     },
     "output_type": "display_data"
    }
   ],
   "source": [
    "x1 = np.linspace(0, 8, 50)\n",
    "# calculate x2 using the equation above\n",
    "x2 = (-intercept - beta_1*x1)/beta_2\n",
    "plt.plot(x1, x2);"
   ]
  },
  {
   "cell_type": "code",
   "execution_count": 42,
   "metadata": {},
   "outputs": [
    {
     "name": "stdout",
     "output_type": "stream",
     "text": [
      "         x1        x2\n",
      "0  3.449867  1.722559\n",
      "1  3.029665  2.277223\n",
      "2  4.436518  5.744879\n",
      "3  4.572551  5.090340\n",
      "4  4.000000  1.000000\n"
     ]
    }
   ],
   "source": [
    "# Locate the support vectors\n",
    "sv = pd.DataFrame(svc.support_vectors_, columns=['x1','x2'])\n",
    "print(sv)"
   ]
  },
  {
   "cell_type": "code",
   "execution_count": 43,
   "metadata": {},
   "outputs": [
    {
     "data": {
      "image/png": "[encoded data removed]",
      "text/plain": [
       "<Figure size 432x288 with 1 Axes>"
      ]
     },
     "metadata": {
      "needs_background": "light"
     },
     "output_type": "display_data"
    }
   ],
   "source": [
    "sns.scatterplot(data=df, x='x1',y='x2',hue='class');\n",
    "plt.scatter(x=sv['x1'], y=sv['x2'],marker='o', s=100, color='purple', alpha=0.3)\n",
    "plt.plot(x1, x2)\n",
    "plt.xlim(0, 8)\n",
    "plt.ylim(0, 8);"
   ]
  },
  {
   "cell_type": "markdown",
   "metadata": {},
   "source": [
    "### Let's put everything together"
   ]
  },
  {
   "cell_type": "code",
   "execution_count": 44,
   "metadata": {},
   "outputs": [],
   "source": [
    "def svm_model(df, C):\n",
    "    # define X & y\n",
    "    X = df[['x1','x2']]\n",
    "    y = df['class']\n",
    "    \n",
    "    # run, fit, predict\n",
    "    svc = SVC(kernel='linear', C = C)\n",
    "    svc.fit(X, y)\n",
    "    y_pred = svc.predict(X)\n",
    "    sv = pd.DataFrame(svc.support_vectors_, columns=['x1','x2'])\n",
    "    print(confusion_matrix(y, y_pred))\n",
    "    \n",
    "    # construct the decision boundary\n",
    "    beta_1 = svc.coef_[0][0]\n",
    "    beta_2 = svc.coef_[0][1]\n",
    "    intercept = svc.intercept_\n",
    "    \n",
    "    x1 = np.linspace(0, 8, 50)\n",
    "    x2 = (-intercept - beta_1*x1)/beta_2\n",
    "    \n",
    "    # plot the data, decision boundary, and support vectors\n",
    "    fig, ax = plt.subplots(figsize=(9, 6))\n",
    "    sns.scatterplot(data=df, x='x1',y='x2',hue='class', ax=ax) \n",
    "    ax.scatter(x=sv['x1'], y=sv['x2'],marker='o', s=100, color='purple', alpha=0.3)\n",
    "    ax.plot(x1, x2)\n",
    "    ax.set_xlim(0, 8)\n",
    "    ax.set_ylim(0, 8);"
   ]
  },
  {
   "cell_type": "code",
   "execution_count": 47,
   "metadata": {},
   "outputs": [
    {
     "name": "stdout",
     "output_type": "stream",
     "text": [
      "[[20  0]\n",
      " [ 1 20]]\n"
     ]
    },
    {
     "data": {
      "image/png": "[encoded data removed]",
      "text/plain": [
       "<Figure size 648x432 with 1 Axes>"
      ]
     },
     "metadata": {
      "needs_background": "light"
     },
     "output_type": "display_data"
    }
   ],
   "source": [
    "svm_model(df, 0.1)"
   ]
  },
  {
   "cell_type": "code",
   "execution_count": null,
   "metadata": {},
   "outputs": [],
   "source": []
  }
 ],
 "metadata": {
  "kernelspec": {
   "display_name": "Python 3",
   "language": "python",
   "name": "python3"
  },
  "language_info": {
   "codemirror_mode": {
    "name": "ipython",
    "version": 3
   },
   "file_extension": ".py",
   "mimetype": "text/x-python",
   "name": "python",
   "nbconvert_exporter": "python",
   "pygments_lexer": "ipython3",
   "version": "3.7.3"
  }
 },
 "nbformat": 4,
 "nbformat_minor": 2
}
